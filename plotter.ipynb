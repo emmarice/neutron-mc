{
  "nbformat": 4,
  "nbformat_minor": 0,
  "metadata": {
    "colab": {
      "provenance": []
    },
    "kernelspec": {
      "name": "python3",
      "display_name": "Python 3"
    },
    "language_info": {
      "name": "python"
    }
  },
  "cells": [
    {
      "cell_type": "code",
      "source": [
        "import numpy as np\n",
        "import matplotlib.pyplot as plt\n",
        "from matplotlib.patches import Rectangle"
      ],
      "metadata": {
        "id": "AM78ls7UMqMA"
      },
      "execution_count": 1,
      "outputs": []
    },
    {
      "cell_type": "code",
      "source": [
        "from google.colab import drive\n",
        "drive.mount('/content/drive')\n",
        "path=\"/content/drive/My Drive/classes/2025spring/ne255project\""
      ],
      "metadata": {
        "colab": {
          "base_uri": "https://localhost:8080/"
        },
        "id": "AfyL8E5nRBcH",
        "outputId": "ffe14a36-061f-4827-fe6a-83a70102ea8c"
      },
      "execution_count": 3,
      "outputs": [
        {
          "output_type": "stream",
          "name": "stdout",
          "text": [
            "Mounted at /content/drive\n"
          ]
        }
      ]
    },
    {
      "cell_type": "code",
      "source": [
        "!pip install pypalettes"
      ],
      "metadata": {
        "colab": {
          "base_uri": "https://localhost:8080/"
        },
        "id": "ZDZjVLt61lxp",
        "outputId": "5daaff0b-9c99-48d9-d976-b3a2d15e4954"
      },
      "execution_count": 4,
      "outputs": [
        {
          "output_type": "stream",
          "name": "stdout",
          "text": [
            "Collecting pypalettes\n",
            "  Downloading pypalettes-0.1.5-py3-none-any.whl.metadata (7.2 kB)\n",
            "Requirement already satisfied: matplotlib>=3.10.0 in /usr/local/lib/python3.11/dist-packages (from pypalettes) (3.10.0)\n",
            "Requirement already satisfied: contourpy>=1.0.1 in /usr/local/lib/python3.11/dist-packages (from matplotlib>=3.10.0->pypalettes) (1.3.2)\n",
            "Requirement already satisfied: cycler>=0.10 in /usr/local/lib/python3.11/dist-packages (from matplotlib>=3.10.0->pypalettes) (0.12.1)\n",
            "Requirement already satisfied: fonttools>=4.22.0 in /usr/local/lib/python3.11/dist-packages (from matplotlib>=3.10.0->pypalettes) (4.57.0)\n",
            "Requirement already satisfied: kiwisolver>=1.3.1 in /usr/local/lib/python3.11/dist-packages (from matplotlib>=3.10.0->pypalettes) (1.4.8)\n",
            "Requirement already satisfied: numpy>=1.23 in /usr/local/lib/python3.11/dist-packages (from matplotlib>=3.10.0->pypalettes) (2.0.2)\n",
            "Requirement already satisfied: packaging>=20.0 in /usr/local/lib/python3.11/dist-packages (from matplotlib>=3.10.0->pypalettes) (24.2)\n",
            "Requirement already satisfied: pillow>=8 in /usr/local/lib/python3.11/dist-packages (from matplotlib>=3.10.0->pypalettes) (11.2.1)\n",
            "Requirement already satisfied: pyparsing>=2.3.1 in /usr/local/lib/python3.11/dist-packages (from matplotlib>=3.10.0->pypalettes) (3.2.3)\n",
            "Requirement already satisfied: python-dateutil>=2.7 in /usr/local/lib/python3.11/dist-packages (from matplotlib>=3.10.0->pypalettes) (2.9.0.post0)\n",
            "Requirement already satisfied: six>=1.5 in /usr/local/lib/python3.11/dist-packages (from python-dateutil>=2.7->matplotlib>=3.10.0->pypalettes) (1.17.0)\n",
            "Downloading pypalettes-0.1.5-py3-none-any.whl (366 kB)\n",
            "\u001b[2K   \u001b[90m━━━━━━━━━━━━━━━━━━━━━━━━━━━━━━━━━━━━━━━━\u001b[0m \u001b[32m366.0/366.0 kB\u001b[0m \u001b[31m6.0 MB/s\u001b[0m eta \u001b[36m0:00:00\u001b[0m\n",
            "\u001b[?25hInstalling collected packages: pypalettes\n",
            "Successfully installed pypalettes-0.1.5\n"
          ]
        }
      ]
    },
    {
      "cell_type": "code",
      "source": [
        "from pypalettes import load_cmap\n",
        "cmap = load_cmap(\"Abbott\")\n",
        "palette=cmap.colors # return colors as a list of hexadecimal values\n"
      ],
      "metadata": {
        "id": "Ywfjb7ppTGe3",
        "colab": {
          "base_uri": "https://localhost:8080/",
          "height": 35
        },
        "outputId": "c7ddb415-087e-47de-9473-309c315c6f74"
      },
      "execution_count": 26,
      "outputs": [
        {
          "output_type": "execute_result",
          "data": {
            "text/plain": [
              "'#004042FF'"
            ],
            "application/vnd.google.colaboratory.intrinsic+json": {
              "type": "string"
            }
          },
          "metadata": {},
          "execution_count": 26
        }
      ]
    },
    {
      "cell_type": "markdown",
      "source": [
        "# geometries"
      ],
      "metadata": {
        "id": "iWe7DneAHQ3L"
      }
    },
    {
      "cell_type": "code",
      "source": [
        "#function defs\n",
        "def parsefile(fname):\n",
        "  txtfile = open(fname,\"r\")\n",
        "  txtrows=txtfile.readlines()#FFFFFF\n",
        "  x = []\n",
        "  y = []\n",
        "  widths = []\n",
        "  heights = []\n",
        "  names = []\n",
        "  mat = []\n",
        "  for linenum,row in enumerate(txtrows):\n",
        "    datatab1=row.split(\",\")\n",
        "    names.append(datatab1[0])\n",
        "    mat.append(datatab1[1])\n",
        "    x1 = float(datatab1[2])\n",
        "    y1 = float(datatab1[3])\n",
        "    x.append(x1)\n",
        "    y.append(y1)\n",
        "    x2 = float(datatab1[4])\n",
        "    y2 = float(datatab1[5])\n",
        "    widths.append(x2-x1)\n",
        "    heights.append(y2-y1)\n",
        "  return names,mat,np.array(x),np.array(y),np.array(heights),np.array(widths)\n",
        "\n"
      ],
      "metadata": {
        "id": "h-XDzah4Noen"
      },
      "execution_count": null,
      "outputs": []
    },
    {
      "cell_type": "code",
      "source": [
        "print(palette)"
      ],
      "metadata": {
        "id": "pNhK-lbe2FCR"
      },
      "execution_count": null,
      "outputs": []
    },
    {
      "cell_type": "code",
      "source": [
        "fig, axs = plt.subplots(2, 3)\n",
        "\n",
        "fig.set_figheight(5)\n",
        "fig.set_figwidth(10)\n",
        "\n",
        "R = 6.385\n",
        "filenames = [\"jezebelsquarcle.txt\",\"jezebelsquircle.txt\",\"jezebelcomplex.txt\"]\n",
        "for j,fname in enumerate(filenames):\n",
        "  names,mat,x,y,heights,widths = parsefile(path+\"/\"+fname)\n",
        "  axs[0,j].set_xlim(-1,2*R+1)\n",
        "  axs[0,j].set_ylim(-1,2*R+1)\n",
        "  for i,material in enumerate(mat):\n",
        "    if material==\"u\":\n",
        "      axs[0,j].add_patch( Rectangle((x[i], y[i]),\n",
        "                          widths[i], heights[i],\n",
        "                          fc = palette[0],\n",
        "                          ec = palette[0]#, lw = 10\n",
        "                              ) )\n",
        "    elif material==\"pu\":\n",
        "      axs[0,j].add_patch( Rectangle((x[i], y[i]),\n",
        "                          widths[i], heights[i],\n",
        "                          fc = palette[1],\n",
        "                          ec = palette[1]) )\n",
        "    elif material==\"fe\":\n",
        "      axs[0,j].add_patch( Rectangle((x[i], y[i]),\n",
        "                          widths[i], heights[i],\n",
        "                          fc = palette[2],\n",
        "                          ec = palette[2]) )\n",
        "    elif material==\"void\":\n",
        "      axs[0,j].add_patch( Rectangle((x[i], y[i]),\n",
        "                          widths[i], heights[i],\n",
        "                          fc ='w',\n",
        "                          ec ='w') )\n",
        "\n",
        "R = 8.721\n",
        "filenames = [\"godsquarcle.txt\",\"godsquircle.txt\",\"godcomplex.txt\"]\n",
        "for j,fname in enumerate(filenames):\n",
        "  names,mat,x,y,heights,widths = parsefile(path+\"/\"+fname)\n",
        "  axs[1,j].set_xlim(-1,2*R+1)\n",
        "  axs[1,j].set_ylim(-1,2*R+1)\n",
        "  for i,material in enumerate(mat):\n",
        "    if material==\"u\":\n",
        "      axs[1,j].add_patch( Rectangle((x[i], y[i]),\n",
        "                          widths[i], heights[i],\n",
        "                          fc = palette[0],\n",
        "                          ec = palette[0]#, lw = 10\n",
        "                              ) )\n",
        "    elif material==\"pu\":\n",
        "      axs[1,j].add_patch( Rectangle((x[i], y[i]),\n",
        "                          widths[i], heights[i],\n",
        "                          fc = palette[1],\n",
        "                          ec = palette[1]) )\n",
        "    elif material==\"fe\":\n",
        "      axs[1,j].add_patch( Rectangle((x[i], y[i]),\n",
        "                          widths[i], heights[i],\n",
        "                          fc = palette[2],\n",
        "                          ec = palette[2]) )\n",
        "    elif material==\"void\":\n",
        "      axs[1,j].add_patch( Rectangle((x[i], y[i]),\n",
        "                          widths[i], heights[i],\n",
        "                          fc ='w',\n",
        "                          ec ='w') )\n",
        "\n",
        "for ax in axs.flat:\n",
        "    ax.set(xlabel='x [cm]', ylabel='y [cm]')\n",
        "\n",
        "plt.suptitle(\"Approximate geometries of benchmarks\")\n",
        "\n",
        "# Hide x labels and tick labels for top plots and y ticks for right plots.\n",
        "#for ax in axs.flat:\n",
        "    #ax.label_outer()\n",
        "plt.subplots_adjust(top = 0.9, bottom=0.01, hspace=.3, wspace=0.6)"
      ],
      "metadata": {
        "id": "2678TSXE2qSt"
      },
      "execution_count": null,
      "outputs": []
    },
    {
      "cell_type": "code",
      "source": [
        "fig, axs = plt.subplots(2)\n",
        "\n",
        "fig.set_figheight(5)\n",
        "fig.set_figwidth(4)\n",
        "\n",
        "R = 15\n",
        "filenames = [\"checkers.txt\",\"incased.txt\"]\n",
        "for j,fname in enumerate(filenames):\n",
        "  names,mat,x,y,heights,widths = parsefile(path+\"/\"+fname)\n",
        "  axs[j].set_xlim(-1,2*R+1)\n",
        "  axs[j].set_ylim(-1,2*R+1)\n",
        "  for i,material in enumerate(mat):\n",
        "    if material==\"u\":\n",
        "      axs[j].add_patch( Rectangle((x[i], y[i]),\n",
        "                          widths[i], heights[i],\n",
        "                          fc = palette[0],\n",
        "                          ec = palette[0]#, lw = 10\n",
        "                              ) )\n",
        "    elif material==\"pu\":\n",
        "      axs[j].add_patch( Rectangle((x[i], y[i]),\n",
        "                          widths[i], heights[i],\n",
        "                          fc = palette[1],\n",
        "                          ec = palette[1]) )\n",
        "    elif material==\"fe\":\n",
        "      axs[j].add_patch( Rectangle((x[i], y[i]),\n",
        "                          widths[i], heights[i],\n",
        "                          fc = palette[2],\n",
        "                          ec = palette[2]) )\n",
        "    elif material==\"c\":\n",
        "      axs[j].add_patch( Rectangle((x[i], y[i]),\n",
        "                          widths[i], heights[i],\n",
        "                          fc = palette[3],\n",
        "                          ec = palette[3]) )\n",
        "    elif material==\"void\":\n",
        "      axs[j].add_patch( Rectangle((x[i], y[i]),\n",
        "                          widths[i], heights[i],\n",
        "                          fc ='w',\n",
        "                          ec ='w') )\n",
        "\n",
        "\n",
        "for ax in axs.flat:\n",
        "    ax.set(xlabel='x [cm]', ylabel='y [cm]')\n",
        "\n",
        "plt.suptitle(\"Alternative geometries\")\n",
        "\n",
        "# Hide x labels and tick labels for top plots and y ticks for right plots.\n",
        "#for ax in axs.flat:\n",
        "    #ax.label_outer()\n",
        "plt.subplots_adjust(top = 0.9, bottom=0.01, hspace=.3, wspace=0.6)"
      ],
      "metadata": {
        "id": "fV7d5lIk6xAM"
      },
      "execution_count": null,
      "outputs": []
    },
    {
      "cell_type": "code",
      "source": [
        "fig, ax = plt.subplots()\n",
        "\n",
        "#filler\n",
        "ax.add_patch( Rectangle((0, 0),\n",
        "                          6, 5,\n",
        "                          fc = palette[2],\n",
        "                          ec = palette[2]#, lw = 10\n",
        "                              ) )\n",
        "\n",
        "#pu\n",
        "ax.add_patch( Rectangle((2, 1),\n",
        "                          2, 1,\n",
        "                          fc = palette[1],\n",
        "                          ec = palette[1]\n",
        "                              ) )\n",
        "ax.add_patch( Rectangle((1, 2),\n",
        "                          1, 1,\n",
        "                          fc = palette[1],\n",
        "                          ec = palette[1]\n",
        "                              ) )\n",
        "ax.add_patch( Rectangle((4, 2),\n",
        "                          1, 1,\n",
        "                          fc = palette[1],\n",
        "                          ec = palette[1]\n",
        "                              ) )\n",
        "ax.add_patch( Rectangle((2, 3),\n",
        "                          2, 1,\n",
        "                          fc = palette[1],\n",
        "                          ec = palette[1]\n",
        "                              ) )\n",
        "\n",
        "#circle\n",
        "ax.add_patch( Rectangle((0, 0),\n",
        "                          1, 5,\n",
        "                          fc = \"none\",\n",
        "                          ec = palette[7]\n",
        "                              ) )\n",
        "ax.add_patch( Rectangle((2, 3),\n",
        "                          2, 1,\n",
        "                          fc = \"none\",\n",
        "                          ec = palette[7]\n",
        "                              ) )\n",
        "\n",
        "plt.plot(np.array([0,1,2,4]),np.array([0,5,3,4]),\"o\",color=palette[7])\n",
        "\n",
        "ax.set_xticklabels([])\n",
        "ax.set_yticklabels([])\n",
        "\n",
        "plt.show()"
      ],
      "metadata": {
        "id": "2YiEX38G83aW"
      },
      "execution_count": null,
      "outputs": []
    },
    {
      "cell_type": "markdown",
      "source": [
        "# results"
      ],
      "metadata": {
        "id": "wG3GkgvIHMbK"
      }
    },
    {
      "cell_type": "code",
      "source": [
        "#function defs\n",
        "def parseoutfile(fname):\n",
        "  txtfile = open(fname,\"r\")\n",
        "  txtrows=txtfile.readlines()\n",
        "  keff = []\n",
        "  entropy = []\n",
        "  collisions = []\n",
        "  absorptions = []\n",
        "  fissions = []\n",
        "  for linenum,row in enumerate(txtrows):\n",
        "    if linenum == 0:\n",
        "      print(\"reading..\")\n",
        "    else:\n",
        "      datatab1=row.split(\" \")\n",
        "      keff.append(float(datatab1[0]))\n",
        "      entropy.append(float(datatab1[1]))\n",
        "      collisions.append(float(datatab1[2]))\n",
        "      absorptions.append(float(datatab1[3]))\n",
        "      fissions.append(float(datatab1[4]))\n",
        "  return np.array(keff),np.array(entropy),np.array(collisions),np.array(absorptions),np.array(fissions)\n",
        "\n"
      ],
      "metadata": {
        "id": "0LeZ5secBsGJ"
      },
      "execution_count": 6,
      "outputs": []
    },
    {
      "cell_type": "code",
      "source": [
        "'''fig, ax = plt.subplots(2,3)\n",
        "\n",
        "fig.set_figheight(5)\n",
        "fig.set_figwidth(4)\n",
        "\n",
        "#R = [6.385,8.721]\n",
        "size = 1000\n",
        "keff = np.zeros((2,3,size))\n",
        "entropy = np.zeros((2,3,size))\n",
        "cols = np.zeros((2,3,size))\n",
        "absorbs = np.zeros((2,3,size))\n",
        "fiss = np.zeros((2,3,size))\n",
        "outfiles = [\"jezebelsquare.txt\",\"jezebelsquarcle.txt\",\"jezebelsquircle.txt\"]\n",
        "outfiles2 = [\"godsquare.txt\",\"godsquarcle.txt\",\"godsquircle.txt\"]\n",
        "for j,fname in enumerate(outfiles):\n",
        "  keff[0,j], entropy[0,j], cols[0,j], absorbs[0,j], fiss[0,j] = parseoutfile(path+\"/\"+fname) # jezebel\n",
        "  keff[1,j], entropy[1,j], cols[1,j], absorbs[1,j], fiss[1,j] = parseoutfile(path+\"/\"+outfiles2[j]) # godiva\n",
        "\n",
        "# !!!!\n",
        "#before plotting, should get an average value with some uncertainty for each geo?\n",
        "# !!!!\n",
        "\n",
        "# keff row\n",
        "# jezebel\n",
        "ax[0,0].plot(keff[0,0], \"o\",label=\"square\")\n",
        "ax[0,0].plot(keff[0,1], \"o\",label=\"simple\")\n",
        "ax[0,0].plot(keff[0,2], \"o\",label=\"complex\")\n",
        "# godiva\n",
        "ax[0,0].plot(keff[1,0], \"o\",label=\"square\")\n",
        "ax[0,1].plot(keff[1,1], \"o\",label=\"simple\")\n",
        "ax[0,1].plot(keff[1,2], \"o\",label=\"complex\")\n",
        "ax[0,0].ylabel(r\"k$_{eff}$\")\n",
        "ax[0,1].xlabel(\"Cycle number\")\n",
        "\n",
        "# entropy row\n",
        "ax[1,0].plot(entropy[0], \"o\")\n",
        "ax[1,1].plot(entropy[1], \"o\")\n",
        "ax[1,0].ylabel(\"entropy\")\n",
        "\n",
        "# estimator row\n",
        "#jez\n",
        "ax[2,0].plot(cols[0], \"o\",label=\"collision\")\n",
        "ax[2,0].plot(absorb[0], \"o\",label=\"absorption\")\n",
        "ax[2,0].plot(fiss[0], \"o\",label=\"fission\")\n",
        "#god\n",
        "ax[2,1].plot(cols[1], \"o\"),label=\"collision\")\n",
        "ax[2,1].plot(absorb[1], \"o\",label=\"absorption\")\n",
        "ax[2,1].plot(fiss[1], \"o\",label=\"fission\")\n",
        "ax[2,0].ylabel(\"estimators\")\n",
        "\n",
        "# x label is number of cycles\n",
        "# y label is whatever :)\n",
        "\n",
        "plt.suptitle(\"Results from each geometry\")\n",
        "plt.legend()\n",
        "# Hide x labels and tick labels for top plots and y ticks for right plots.\n",
        "for ax in axs.flat:\n",
        "    ax.label_outer()\n",
        "plt.subplots_adjust(top = 0.9, bottom=0.01, hspace=.3, wspace=0.6)'''"
      ],
      "metadata": {
        "id": "VQHo_HuRSD_6"
      },
      "execution_count": null,
      "outputs": []
    },
    {
      "cell_type": "code",
      "source": [
        "#function defs\n",
        "def parseshieldfile(fname):\n",
        "  txtfile = open(fname,\"r\")\n",
        "  txtrows=txtfile.readlines()\n",
        "  cycle = []\n",
        "  trans = []\n",
        "  for linenum,row in enumerate(txtrows):\n",
        "    if linenum == 0:\n",
        "      print(\"reading..\")\n",
        "    else:\n",
        "      datatab1=row.split(\" \")\n",
        "      cycle.append(float(datatab1[1]))\n",
        "      trans.append(float(datatab1[2]))\n",
        "  return np.array(cycle),np.array(trans)\n",
        "\n"
      ],
      "metadata": {
        "id": "D3NlqOqI8T_l"
      },
      "execution_count": 9,
      "outputs": []
    },
    {
      "cell_type": "code",
      "source": [
        "cycle, transfrac = parseshieldfile(path+\"/shieldValData.dat\")\n",
        "print(transfrac)"
      ],
      "metadata": {
        "colab": {
          "base_uri": "https://localhost:8080/"
        },
        "id": "P9Oq3sgZ8k7W",
        "outputId": "baefa3d9-a295-4d37-da8b-2f5b3cfcca21"
      },
      "execution_count": 10,
      "outputs": [
        {
          "output_type": "stream",
          "name": "stdout",
          "text": [
            "reading..\n",
            "[0.99524 0.99526 0.99491 0.99546 0.99515 0.99519 0.99509 0.99499 0.99488\n",
            " 0.99542 0.99525 0.99478 0.99524 0.99503 0.99515 0.99534 0.99478 0.9955\n",
            " 0.99531 0.99492 0.99495 0.99557 0.9954  0.99499 0.9951  0.99549 0.99523\n",
            " 0.99496 0.99513 0.99527 0.99527 0.99532 0.99517 0.99499 0.99524 0.99541\n",
            " 0.99536 0.9949  0.99489 0.99466 0.99541 0.99547 0.99562 0.99548 0.99534\n",
            " 0.99558 0.99536 0.9955  0.99519 0.99542 0.99499 0.99534 0.99557 0.99518\n",
            " 0.99537 0.99539 0.99513 0.99541 0.99515 0.99506 0.995   0.99541 0.99472\n",
            " 0.99532 0.99543 0.99557 0.99534 0.99522 0.99511 0.99551 0.99511 0.99509\n",
            " 0.99517 0.99547 0.99521 0.99542 0.99505 0.99509 0.99526 0.99474 0.99515\n",
            " 0.99511 0.99528 0.99461 0.9952  0.9954  0.99493 0.99533 0.99506 0.99525\n",
            " 0.99539 0.9948  0.99513 0.99515 0.99515 0.99505 0.99531 0.99543 0.99524\n",
            " 0.99487 0.99516]\n"
          ]
        },
        {
          "output_type": "stream",
          "name": "stderr",
          "text": [
            "<frozen importlib._bootstrap>:1047: ImportWarning: _PyDriveImportHook.find_spec() not found; falling back to find_module()\n",
            "<frozen importlib._bootstrap>:1047: ImportWarning: _BokehImportHook.find_spec() not found; falling back to find_module()\n",
            "<frozen importlib._bootstrap>:1047: ImportWarning: _PyDriveImportHook.find_spec() not found; falling back to find_module()\n",
            "<frozen importlib._bootstrap>:1047: ImportWarning: _BokehImportHook.find_spec() not found; falling back to find_module()\n",
            "<ipython-input-10-914350b2538c>:1: ResourceWarning: unclosed file <_io.TextIOWrapper name='/content/drive/My Drive/classes/2025spring/ne255project/shieldValData.dat' mode='r' encoding='utf-8'>\n",
            "  cycle, transfrac = parseshieldfile(path+\"/shieldValData.dat\")\n",
            "ResourceWarning: Enable tracemalloc to get the object allocation traceback\n"
          ]
        }
      ]
    },
    {
      "cell_type": "code",
      "source": [
        "print(f\"transmission mean: {np.mean(transfrac)} +/- {np.std(transfrac)}\")"
      ],
      "metadata": {
        "colab": {
          "base_uri": "https://localhost:8080/"
        },
        "id": "39sZdJY3-B3J",
        "outputId": "c5b265fb-cb30-4cea-c03e-c6ef92482143"
      },
      "execution_count": 11,
      "outputs": [
        {
          "output_type": "stream",
          "name": "stdout",
          "text": [
            "transmission mean: 0.9952018811881188 +/- 0.00022268706841258485\n"
          ]
        }
      ]
    },
    {
      "cell_type": "code",
      "source": [
        "palette.insert(0,\"#FFFFFF\")\n",
        "palette.pop()"
      ],
      "metadata": {
        "colab": {
          "base_uri": "https://localhost:8080/"
        },
        "id": "EjKy097qHXrG",
        "outputId": "e8d6532a-fd35-4b6b-db99-5d0f15e9851b"
      },
      "execution_count": 27,
      "outputs": [
        {
          "output_type": "stream",
          "name": "stdout",
          "text": [
            "['#FFFFFF', '#950404FF', '#E04B28FF', '#C38961FF', '#9F5630FF', '#388F30FF', '#0F542FFF', '#007D82FF']\n"
          ]
        }
      ]
    },
    {
      "cell_type": "code",
      "source": [
        "fname = path+\"/resjezebelcomplexFisMat.dat\"\n",
        "data = np.loadtxt(fname, skiprows=1)"
      ],
      "metadata": {
        "id": "mJtizQFYCGb5"
      },
      "execution_count": 69,
      "outputs": []
    },
    {
      "cell_type": "code",
      "source": [
        "plt.imshow(data, cmap=cmap, interpolation='nearest')\n",
        "plt.colorbar()\n",
        "R=data[0].size/2\n",
        "plt.xlim(-1,2*R-1)\n",
        "plt.ylim(-1,2*R-2)\n",
        "plt.title(\"Fission sites in JEZEBEL (complex)\")\n",
        "plt.xlabel(\"Grid x\")\n",
        "plt.ylabel(\"Grid y\")\n",
        "plt.show()"
      ],
      "metadata": {
        "colab": {
          "base_uri": "https://localhost:8080/",
          "height": 472
        },
        "id": "MeZ83rl4CX_X",
        "outputId": "ac77d4bf-b2e9-4e52-e95c-82322f2b5130"
      },
      "execution_count": 59,
      "outputs": [
        {
          "output_type": "display_data",
          "data": {
            "text/plain": [
              "<Figure size 640x480 with 2 Axes>"
            ],
            "image/png": "[encoded data removed]"
          },
          "metadata": {}
        }
      ]
    },
    {
      "cell_type": "code",
      "source": [
        "oldsize = data[0].size\n",
        "newsize = int(oldsize/2)\n",
        "newdat = np.zeros((newsize,newsize))\n",
        "for i in range(newsize-1):\n",
        "  for j in range(newsize-1):\n",
        "    newdat[i,j] = data[2*i,2*j] + data[2*i+1,2*j+1]"
      ],
      "metadata": {
        "id": "B5ewdh5wjFkJ"
      },
      "execution_count": 70,
      "outputs": []
    },
    {
      "cell_type": "code",
      "source": [
        "plt.imshow(newdat, cmap=cmap, interpolation='nearest')\n",
        "plt.colorbar()\n",
        "R=newdat[0].size/2\n",
        "plt.xlim(-1,2*R-1)\n",
        "plt.ylim(-1,2*R-1)\n",
        "plt.title(\"Fission sites in JEZEBEL (complex)\")\n",
        "plt.xlabel(\"Grid x\")\n",
        "plt.ylabel(\"Grid y\")\n",
        "plt.show()"
      ],
      "metadata": {
        "colab": {
          "base_uri": "https://localhost:8080/",
          "height": 472
        },
        "id": "tpWLi7nPkQEZ",
        "outputId": "2e89af51-2b64-4eb4-d443-6c38111303e1"
      },
      "execution_count": 77,
      "outputs": [
        {
          "output_type": "display_data",
          "data": {
            "text/plain": [
              "<Figure size 640x480 with 2 Axes>"
            ],
            "image/png": "[encoded data removed]"
          },
          "metadata": {}
        }
      ]
    },
    {
      "cell_type": "code",
      "source": [
        "fname = path+\"/jezSquircleFisMat.dat\"\n",
        "data = np.loadtxt(fname, skiprows=1)\n",
        "\n",
        "plt.imshow(data, cmap=cmap, interpolation='nearest')\n",
        "plt.colorbar()\n",
        "R=data[0].size/2\n",
        "plt.xlim(-1,2*R-1)\n",
        "plt.ylim(-1,2*R-2)\n",
        "plt.title(\"Fission sites in JEZEBEL (squircle)\")\n",
        "plt.xlabel(\"Grid x\")\n",
        "plt.ylabel(\"Grid y\")\n",
        "plt.show()"
      ],
      "metadata": {
        "colab": {
          "base_uri": "https://localhost:8080/",
          "height": 472
        },
        "id": "D3LBiDcBHzgq",
        "outputId": "ff02ecf8-ca14-4e7b-fd73-28df0c59355e"
      },
      "execution_count": 61,
      "outputs": [
        {
          "output_type": "display_data",
          "data": {
            "text/plain": [
              "<Figure size 640x480 with 2 Axes>"
            ],
            "image/png": "[encoded data removed]"
          },
          "metadata": {}
        }
      ]
    },
    {
      "cell_type": "code",
      "source": [
        "fname = path+\"/resjeztezFisMatLess.dat\"\n",
        "data = np.loadtxt(fname, skiprows=1)\n",
        "\n",
        "plt.imshow(data, cmap=cmap, interpolation='nearest')\n",
        "plt.colorbar()\n",
        "R=data[0].size/2\n",
        "plt.xlim(-1,2*R)\n",
        "plt.ylim(-1,2*R)\n",
        "plt.title(\"Fission sites in two cubes\")\n",
        "plt.xlabel(\"Grid x\")\n",
        "plt.ylabel(\"Grid y\")\n",
        "plt.show()"
      ],
      "metadata": {
        "colab": {
          "base_uri": "https://localhost:8080/",
          "height": 472
        },
        "id": "F_aGnLwyKX8T",
        "outputId": "1a0af8c0-2557-460d-c6ef-e3db90cb235d"
      },
      "execution_count": 76,
      "outputs": [
        {
          "output_type": "display_data",
          "data": {
            "text/plain": [
              "<Figure size 640x480 with 2 Axes>"
            ],
            "image/png": "[encoded data removed]"
          },
          "metadata": {}
        }
      ]
    },
    {
      "cell_type": "code",
      "source": [
        "fname = path+\"/rescheckersFisMat.dat\"\n",
        "data = np.loadtxt(fname, skiprows=1)\n",
        "\n",
        "plt.imshow(data, cmap=cmap, interpolation='nearest')\n",
        "plt.colorbar()\n",
        "R=data[0].size/2\n",
        "plt.xlim(-1,2*R-1)\n",
        "plt.ylim(-1,2*R-2)\n",
        "plt.title(\"Fission sites in checkers\")\n",
        "plt.xlabel(\"Grid x\")\n",
        "plt.ylabel(\"Grid y\")\n",
        "plt.show()"
      ],
      "metadata": {
        "colab": {
          "base_uri": "https://localhost:8080/",
          "height": 472
        },
        "id": "8ebglHVjKicC",
        "outputId": "2de892ce-7d4a-4a80-80d7-ab87041f0c1a"
      },
      "execution_count": 48,
      "outputs": [
        {
          "output_type": "display_data",
          "data": {
            "text/plain": [
              "<Figure size 640x480 with 2 Axes>"
            ],
            "image/png": "[encoded data removed]"
          },
          "metadata": {}
        }
      ]
    }
  ]
}